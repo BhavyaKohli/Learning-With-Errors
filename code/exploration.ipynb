{
 "cells": [
  {
   "cell_type": "code",
   "execution_count": 1,
   "metadata": {},
   "outputs": [],
   "source": [
    "import numpy as np\n",
    "import matplotlib.pyplot as plt\n",
    "from collections import Counter\n",
    "from tqdm.auto import tqdm"
   ]
  },
  {
   "cell_type": "code",
   "execution_count": 8,
   "metadata": {},
   "outputs": [
    {
     "data": {
      "image/png": "[encoded data removed]",
      "text/plain": [
       "<Figure size 432x288 with 1 Axes>"
      ]
     },
     "metadata": {
      "needs_background": "light"
     },
     "output_type": "display_data"
    }
   ],
   "source": [
    "k = np.random.normal(0,10,size=1000000)\n",
    "\n",
    "def plot_distribution(k):\n",
    "    k = np.round(k).reshape(-1,)\n",
    "    plt.plot(Counter(k).keys(),Counter(k).values(),\"bx\")\n",
    "    plt.grid()\n",
    "    \n",
    "plot_distribution(k)"
   ]
  },
  {
   "cell_type": "code",
   "execution_count": 9,
   "metadata": {},
   "outputs": [],
   "source": [
    "m = 640\n",
    "n = 256\n",
    "q = 113\n",
    "sigma = 1/n*q\n",
    "seed = 69\n",
    "\n",
    "np.random.seed(seed)\n",
    "A = np.round(np.random.rand(m,n)).astype(int)\n",
    "S = np.round(np.random.rand(n,1)).astype(int)\n",
    "\n",
    "generate_e = lambda sig: np.round(np.random.normal(0,sig,size=m).reshape(m,1)).astype(int)\n",
    "e = generate_e(sigma)\n",
    "\n",
    "b = (A@S % q + e % q) % q"
   ]
  },
  {
   "cell_type": "code",
   "execution_count": 10,
   "metadata": {},
   "outputs": [
    {
     "name": "stdout",
     "output_type": "stream",
     "text": [
      "min: 48\n",
      "max: 77\n"
     ]
    }
   ],
   "source": [
    "print(f\"min: {b.min()}\\nmax: {b.max()}\")"
   ]
  },
  {
   "cell_type": "code",
   "execution_count": null,
   "metadata": {},
   "outputs": [],
   "source": [
    "lstsq_sol = np.linalg.lstsq(A,b,rcond=0)[0]\n",
    "plot_distribution(lstsq_sol)"
   ]
  },
  {
   "cell_type": "code",
   "execution_count": 18,
   "metadata": {},
   "outputs": [],
   "source": [
    "thresh = 0.5\n",
    "lstsq_sol[lstsq_sol>thresh]=1\n",
    "lstsq_sol[lstsq_sol<thresh]=0"
   ]
  },
  {
   "cell_type": "code",
   "execution_count": 19,
   "metadata": {},
   "outputs": [
    {
     "data": {
      "text/plain": [
       "100.0"
      ]
     },
     "execution_count": 19,
     "metadata": {},
     "output_type": "execute_result"
    }
   ],
   "source": [
    "accuracy = lambda x,y: (x==y).sum()/len(y)*100\n",
    "accuracy(lstsq_sol,S)"
   ]
  },
  {
   "cell_type": "code",
   "execution_count": 11,
   "metadata": {},
   "outputs": [
    {
     "name": "stdout",
     "output_type": "stream",
     "text": [
      "100.0\n",
      "46.875\n"
     ]
    }
   ],
   "source": [
    "try:\n",
    "    atainv = np.linalg.inv(A.T@A)\n",
    "    pred_knownE = np.round(atainv@A.T@(b-e)).astype(int)\n",
    "    pred_unknownE = np.round(atainv@A.T@(b-generate_e(sigma))).astype(int)\n",
    "    print(accuracy(pred_knownE,S),accuracy(pred_unknownE,S),sep='\\n')\n",
    "except np.linalg.LinAlgError:\n",
    "    print(\"A.T@A is not invertible\")"
   ]
  },
  {
   "cell_type": "markdown",
   "metadata": {},
   "source": [
    "# Testing a scoring based method"
   ]
  },
  {
   "cell_type": "code",
   "execution_count": 22,
   "metadata": {},
   "outputs": [],
   "source": [
    "import numpy as np\n",
    "import matplotlib.pyplot as plt\n",
    "from tqdm.auto import tqdm\n",
    "\n",
    "generate_b = lambda sig: (A@S + generate_e(sig)) % q\n",
    "accuracy = lambda x,y: (x==y).sum()/len(y)*100\n",
    "print_minmax = lambda b: print(f\"min: {b.min()}\\nmax: {b.max()}\")\n",
    "\n",
    "m,n,q = 640,256,113\n",
    "def initialize_expt(m=m,n=n,q=q,sigma_factor=0.05,seed=69):\n",
    "    global generate_e\n",
    "\n",
    "    sigma = sigma_factor*q\n",
    "    np.random.seed(seed)\n",
    "    A = np.round(np.random.rand(m,n)).astype(int)\n",
    "    S = np.round(np.random.rand(n,1)).astype(int)\n",
    "\n",
    "\n",
    "    generate_e = lambda sig: np.round(np.random.normal(0,sig,size=m).reshape(m,1)).astype(int)\n",
    "    e = generate_e(sigma)\n",
    "\n",
    "    b = (A@S + e) % q\n",
    "    print_minmax(b)\n",
    "\n",
    "    return A,S,e,b,sigma"
   ]
  },
  {
   "cell_type": "code",
   "execution_count": 23,
   "metadata": {},
   "outputs": [
    {
     "name": "stdout",
     "output_type": "stream",
     "text": [
      "min: 33\n",
      "max: 82\n"
     ]
    }
   ],
   "source": [
    "A,S,e,b,sigma = initialize_expt()"
   ]
  },
  {
   "cell_type": "markdown",
   "metadata": {},
   "source": [
    "## Testing, with S known"
   ]
  },
  {
   "cell_type": "code",
   "execution_count": 35,
   "metadata": {},
   "outputs": [
    {
     "name": "stderr",
     "output_type": "stream",
     "text": [
      "Acc: 73.046875%: 100%|████████████████████████████████████████| 10000/10000 [19:38<00:00,  8.48it/s]\n"
     ]
    }
   ],
   "source": [
    "scores = {i: {0: 0, 1:0} for i in range(A.shape[1])}\n",
    "acc = []\n",
    "\n",
    "pbar = tqdm(range(10000), ncols=100)\n",
    "pbar.set_description(f\"Acc: {str(0).zfill(2)}%\")\n",
    "\n",
    "for i in pbar:\n",
    "    b_ = (b - generate_e(sigma)) % q\n",
    "    sol = np.linalg.lstsq(A,b_,rcond=0)[0]\n",
    "\n",
    "    thresh = sol.mean()\n",
    "    sol[sol>thresh] = 1\n",
    "    sol[sol<=thresh] = 0\n",
    "\n",
    "    acc.append(accuracy(sol,S))\n",
    "    for s in range(len(S)):\n",
    "        if S[s] == sol[s]:\n",
    "            scores[s][sol[s][0]] += 1\n",
    "    \n",
    "    pbar.set_description(f\"Acc: {acc[-1]}%\")\n",
    "    # if acc[-1] > 90: \n",
    "    #     print(i)"
   ]
  },
  {
   "cell_type": "code",
   "execution_count": 45,
   "metadata": {},
   "outputs": [],
   "source": [
    "prediction = []\n",
    "for key in scores.keys():\n",
    "    z = scores[key][0]\n",
    "    o = scores[key][1]\n",
    "\n",
    "    prediction.append(1 if o>z else 0)"
   ]
  },
  {
   "cell_type": "code",
   "execution_count": 47,
   "metadata": {},
   "outputs": [
    {
     "data": {
      "text/plain": [
       "True"
      ]
     },
     "execution_count": 47,
     "metadata": {},
     "output_type": "execute_result"
    }
   ],
   "source": [
    "(np.array(prediction).reshape(-1,1)==S).all()"
   ]
  },
  {
   "cell_type": "markdown",
   "metadata": {},
   "source": [
    "## Without knowledge of S "
   ]
  },
  {
   "cell_type": "code",
   "execution_count": 28,
   "metadata": {},
   "outputs": [
    {
     "name": "stdout",
     "output_type": "stream",
     "text": [
      "min: 48\n",
      "max: 85\n",
      "min: -3\n",
      "max: 4\n"
     ]
    }
   ],
   "source": [
    "A,S,e,b,sigma = initialize_expt(sigma_factor=0.01,seed=420)\n",
    "print_minmax(e)"
   ]
  },
  {
   "cell_type": "code",
   "execution_count": 46,
   "metadata": {},
   "outputs": [
    {
     "name": "stderr",
     "output_type": "stream",
     "text": [
      "100%|█████████████████████████████████████████████████████████████| 100/100 [00:17<00:00,  5.72it/s]\n"
     ]
    }
   ],
   "source": [
    "iter_milestones = [1000,5000,10000]\n",
    "scores = np.zeros((A.shape[1],2))\n",
    "milestone_acc = []\n",
    "acc = []\n",
    "\n",
    "for i in tqdm(range(1,100+1,1),ncols=100):\n",
    "    b_ = (b - generate_e(sigma)) % q\n",
    "    sol = np.linalg.lstsq(A,b_,rcond=0)[0]\n",
    "\n",
    "    thresh = sol.mean()\n",
    "    sol[sol>thresh] = 1\n",
    "    sol[sol<=thresh] = 0\n",
    "\n",
    "    for n,s in enumerate(sol):\n",
    "        scores[n][int(s)] += 1\n",
    "    \n",
    "    temp_sol = np.argmax(scores,axis=1).reshape(-1,1)\n",
    "    acc.append(accuracy(temp_sol,S))"
   ]
  },
  {
   "cell_type": "code",
   "execution_count": 47,
   "metadata": {},
   "outputs": [
    {
     "data": {
      "text/plain": [
       "array([[ 99.,   1.],\n",
       "       [  0., 100.],\n",
       "       [  0., 100.],\n",
       "       [100.,   0.],\n",
       "       [100.,   0.],\n",
       "       [  0., 100.],\n",
       "       [ 99.,   1.],\n",
       "       [100.,   0.],\n",
       "       [  0., 100.],\n",
       "       [  0., 100.],\n",
       "       [100.,   0.],\n",
       "       [  0., 100.],\n",
       "       [100.,   0.],\n",
       "       [100.,   0.],\n",
       "       [  0., 100.],\n",
       "       [100.,   0.],\n",
       "       [  0., 100.],\n",
       "       [  0., 100.],\n",
       "       [100.,   0.],\n",
       "       [  0., 100.],\n",
       "       [  0., 100.],\n",
       "       [  0., 100.],\n",
       "       [  0., 100.],\n",
       "       [ 99.,   1.],\n",
       "       [  0., 100.],\n",
       "       [100.,   0.],\n",
       "       [  0., 100.],\n",
       "       [  0., 100.],\n",
       "       [  0., 100.],\n",
       "       [  0., 100.],\n",
       "       [  0., 100.],\n",
       "       [100.,   0.],\n",
       "       [100.,   0.],\n",
       "       [100.,   0.],\n",
       "       [100.,   0.],\n",
       "       [  0., 100.],\n",
       "       [  0., 100.],\n",
       "       [100.,   0.],\n",
       "       [ 99.,   1.],\n",
       "       [  0., 100.],\n",
       "       [ 99.,   1.],\n",
       "       [100.,   0.],\n",
       "       [100.,   0.],\n",
       "       [100.,   0.],\n",
       "       [  0., 100.],\n",
       "       [100.,   0.],\n",
       "       [100.,   0.],\n",
       "       [  0., 100.],\n",
       "       [ 88.,  12.],\n",
       "       [  0., 100.],\n",
       "       [100.,   0.],\n",
       "       [  0., 100.],\n",
       "       [100.,   0.],\n",
       "       [  0., 100.],\n",
       "       [  0., 100.],\n",
       "       [  0., 100.],\n",
       "       [  0., 100.],\n",
       "       [  0., 100.],\n",
       "       [100.,   0.],\n",
       "       [100.,   0.],\n",
       "       [  0., 100.],\n",
       "       [  0., 100.],\n",
       "       [  0., 100.],\n",
       "       [100.,   0.],\n",
       "       [  0., 100.],\n",
       "       [100.,   0.],\n",
       "       [  3.,  97.],\n",
       "       [100.,   0.],\n",
       "       [  0., 100.],\n",
       "       [  0., 100.],\n",
       "       [  0., 100.],\n",
       "       [  0., 100.],\n",
       "       [100.,   0.],\n",
       "       [  0., 100.],\n",
       "       [100.,   0.],\n",
       "       [100.,   0.],\n",
       "       [  0., 100.],\n",
       "       [  0., 100.],\n",
       "       [100.,   0.],\n",
       "       [100.,   0.],\n",
       "       [ 99.,   1.],\n",
       "       [100.,   0.],\n",
       "       [  0., 100.],\n",
       "       [100.,   0.],\n",
       "       [  0., 100.],\n",
       "       [100.,   0.],\n",
       "       [  0., 100.],\n",
       "       [100.,   0.],\n",
       "       [  1.,  99.],\n",
       "       [100.,   0.],\n",
       "       [  0., 100.],\n",
       "       [  0., 100.],\n",
       "       [  0., 100.],\n",
       "       [100.,   0.],\n",
       "       [  0., 100.],\n",
       "       [  0., 100.],\n",
       "       [  0., 100.],\n",
       "       [100.,   0.],\n",
       "       [100.,   0.],\n",
       "       [100.,   0.],\n",
       "       [  0., 100.],\n",
       "       [100.,   0.],\n",
       "       [100.,   0.],\n",
       "       [  0., 100.],\n",
       "       [100.,   0.],\n",
       "       [100.,   0.],\n",
       "       [  0., 100.],\n",
       "       [100.,   0.],\n",
       "       [  2.,  98.],\n",
       "       [  0., 100.],\n",
       "       [  0., 100.],\n",
       "       [  0., 100.],\n",
       "       [  0., 100.],\n",
       "       [  0., 100.],\n",
       "       [  0., 100.],\n",
       "       [  0., 100.],\n",
       "       [100.,   0.],\n",
       "       [100.,   0.],\n",
       "       [100.,   0.],\n",
       "       [100.,   0.],\n",
       "       [100.,   0.],\n",
       "       [  0., 100.],\n",
       "       [  1.,  99.],\n",
       "       [  0., 100.],\n",
       "       [  1.,  99.],\n",
       "       [100.,   0.],\n",
       "       [  0., 100.],\n",
       "       [  0., 100.],\n",
       "       [100.,   0.],\n",
       "       [100.,   0.],\n",
       "       [  0., 100.],\n",
       "       [  0., 100.],\n",
       "       [100.,   0.],\n",
       "       [  0., 100.],\n",
       "       [100.,   0.],\n",
       "       [100.,   0.],\n",
       "       [100.,   0.],\n",
       "       [  0., 100.],\n",
       "       [100.,   0.],\n",
       "       [  0., 100.],\n",
       "       [  0., 100.],\n",
       "       [100.,   0.],\n",
       "       [  0., 100.],\n",
       "       [  0., 100.],\n",
       "       [  0., 100.],\n",
       "       [100.,   0.],\n",
       "       [  0., 100.],\n",
       "       [100.,   0.],\n",
       "       [  0., 100.],\n",
       "       [  2.,  98.],\n",
       "       [100.,   0.],\n",
       "       [100.,   0.],\n",
       "       [100.,   0.],\n",
       "       [100.,   0.],\n",
       "       [100.,   0.],\n",
       "       [100.,   0.],\n",
       "       [100.,   0.],\n",
       "       [  1.,  99.],\n",
       "       [  0., 100.],\n",
       "       [  0., 100.],\n",
       "       [  0., 100.],\n",
       "       [  0., 100.],\n",
       "       [  0., 100.],\n",
       "       [  1.,  99.],\n",
       "       [100.,   0.],\n",
       "       [  0., 100.],\n",
       "       [100.,   0.],\n",
       "       [  0., 100.],\n",
       "       [  0., 100.],\n",
       "       [  0., 100.],\n",
       "       [  0., 100.],\n",
       "       [100.,   0.],\n",
       "       [100.,   0.],\n",
       "       [  3.,  97.],\n",
       "       [  0., 100.],\n",
       "       [100.,   0.],\n",
       "       [  0., 100.],\n",
       "       [100.,   0.],\n",
       "       [100.,   0.],\n",
       "       [  0., 100.],\n",
       "       [100.,   0.],\n",
       "       [  5.,  95.],\n",
       "       [100.,   0.],\n",
       "       [  0., 100.],\n",
       "       [  1.,  99.],\n",
       "       [  0., 100.],\n",
       "       [  0., 100.],\n",
       "       [100.,   0.],\n",
       "       [100.,   0.],\n",
       "       [  0., 100.],\n",
       "       [100.,   0.],\n",
       "       [  0., 100.],\n",
       "       [100.,   0.],\n",
       "       [  7.,  93.],\n",
       "       [  0., 100.],\n",
       "       [  0., 100.],\n",
       "       [  0., 100.],\n",
       "       [100.,   0.],\n",
       "       [100.,   0.],\n",
       "       [  0., 100.],\n",
       "       [100.,   0.],\n",
       "       [  0., 100.],\n",
       "       [  0., 100.],\n",
       "       [ 99.,   1.],\n",
       "       [  0., 100.],\n",
       "       [ 99.,   1.],\n",
       "       [100.,   0.],\n",
       "       [  0., 100.],\n",
       "       [  0., 100.],\n",
       "       [  0., 100.],\n",
       "       [  0., 100.],\n",
       "       [  0., 100.],\n",
       "       [  0., 100.],\n",
       "       [100.,   0.],\n",
       "       [  0., 100.],\n",
       "       [  0., 100.],\n",
       "       [  0., 100.],\n",
       "       [100.,   0.],\n",
       "       [ 89.,  11.],\n",
       "       [100.,   0.],\n",
       "       [100.,   0.],\n",
       "       [  0., 100.],\n",
       "       [100.,   0.],\n",
       "       [100.,   0.],\n",
       "       [100.,   0.],\n",
       "       [100.,   0.],\n",
       "       [  0., 100.],\n",
       "       [ 99.,   1.],\n",
       "       [  0., 100.],\n",
       "       [  0., 100.],\n",
       "       [100.,   0.],\n",
       "       [100.,   0.],\n",
       "       [100.,   0.],\n",
       "       [  0., 100.],\n",
       "       [100.,   0.],\n",
       "       [100.,   0.],\n",
       "       [100.,   0.],\n",
       "       [  0., 100.],\n",
       "       [100.,   0.],\n",
       "       [100.,   0.],\n",
       "       [100.,   0.],\n",
       "       [ 99.,   1.],\n",
       "       [  0., 100.],\n",
       "       [100.,   0.],\n",
       "       [100.,   0.],\n",
       "       [100.,   0.],\n",
       "       [  0., 100.],\n",
       "       [100.,   0.],\n",
       "       [100.,   0.],\n",
       "       [  0., 100.],\n",
       "       [  0., 100.],\n",
       "       [  0., 100.],\n",
       "       [100.,   0.],\n",
       "       [  0., 100.],\n",
       "       [100.,   0.],\n",
       "       [100.,   0.]])"
      ]
     },
     "execution_count": 47,
     "metadata": {},
     "output_type": "execute_result"
    }
   ],
   "source": [
    "scores"
   ]
  },
  {
   "cell_type": "code",
   "execution_count": 48,
   "metadata": {},
   "outputs": [
    {
     "data": {
      "text/plain": [
       "True"
      ]
     },
     "execution_count": 48,
     "metadata": {},
     "output_type": "execute_result"
    }
   ],
   "source": [
    "(scores.argmax(axis=1)==S.reshape(-1,)).all()"
   ]
  },
  {
   "cell_type": "code",
   "execution_count": 49,
   "metadata": {},
   "outputs": [
    {
     "data": {
      "image/png": "[encoded data removed]",
      "text/plain": [
       "<Figure size 432x288 with 1 Axes>"
      ]
     },
     "metadata": {
      "needs_background": "light"
     },
     "output_type": "display_data"
    }
   ],
   "source": [
    "plt.plot(acc)\n",
    "plt.show()"
   ]
  },
  {
   "cell_type": "markdown",
   "metadata": {},
   "source": [
    "# Encryption using LWE"
   ]
  },
  {
   "cell_type": "code",
   "execution_count": 197,
   "metadata": {},
   "outputs": [
    {
     "name": "stdout",
     "output_type": "stream",
     "text": [
      "77 48\n"
     ]
    }
   ],
   "source": [
    "A,S,e,b,sigma = initialize_expt(q,seed=69)"
   ]
  },
  {
   "cell_type": "code",
   "execution_count": 254,
   "metadata": {},
   "outputs": [],
   "source": [
    "def encrypt_using_lwe(M,A,S,b,q,seed=SEED):\n",
    "    r = np.round(np.random.rand(A.shape[0])).reshape(1,-1)\n",
    "    c0 = r@A % q\n",
    "    c1 = r@b + (M * np.round(q/2))\n",
    "    c1 = c1 % q\n",
    "\n",
    "    return c0, c1\n",
    "\n",
    "def decryt_lwe(c0,c1,A,S,b,q):\n",
    "    Mdash = (c1 - c0@S) % q\n",
    "\n",
    "    return int(abs(Mdash) > abs(np.ceil(q/2)-Mdash))"
   ]
  },
  {
   "cell_type": "code",
   "execution_count": 299,
   "metadata": {},
   "outputs": [
    {
     "data": {
      "text/plain": [
       "1"
      ]
     },
     "execution_count": 299,
     "metadata": {},
     "output_type": "execute_result"
    }
   ],
   "source": [
    "c0,c1 = encrypt_using_lwe(0,A,S,b,q,seed=np.random.randint(1))\n",
    "Mdash = (c1 - c0@S) % q\n",
    "int(abs(Mdash) > abs(np.ceil(q/2)-Mdash))"
   ]
  },
  {
   "cell_type": "code",
   "execution_count": 308,
   "metadata": {},
   "outputs": [
    {
     "data": {
      "text/plain": [
       "array([[112.]])"
      ]
     },
     "execution_count": 308,
     "metadata": {},
     "output_type": "execute_result"
    }
   ],
   "source": [
    "(c1 - c0@S) % q"
   ]
  },
  {
   "cell_type": "code",
   "execution_count": 245,
   "metadata": {},
   "outputs": [
    {
     "data": {
      "text/plain": [
       "1"
      ]
     },
     "execution_count": 245,
     "metadata": {},
     "output_type": "execute_result"
    }
   ],
   "source": [
    "decryt_lwe(c0,c1,A,S,b,q)"
   ]
  },
  {
   "cell_type": "code",
   "execution_count": 246,
   "metadata": {},
   "outputs": [],
   "source": [
    "def encrypt_decrypt_cycle(M,A,S,b,q,seed=SEED,iter=10000):\n",
    "    outputs = []\n",
    "    for M_ in M:\n",
    "        c0, c1 = encrypt_using_lwe(M_,A,S,b,q,seed)\n",
    "        outputs.append(decryt_lwe(c0,c1,A,S,b,q)==M_)\n",
    "\n",
    "    return 100*np.sum(outputs)/len(outputs)"
   ]
  }
 ],
 "metadata": {
  "kernelspec": {
   "display_name": "Python 3.7.8 64-bit ('3.7.8')",
   "language": "python",
   "name": "python3"
  },
  "language_info": {
   "codemirror_mode": {
    "name": "ipython",
    "version": 3
   },
   "file_extension": ".py",
   "mimetype": "text/x-python",
   "name": "python",
   "nbconvert_exporter": "python",
   "pygments_lexer": "ipython3",
   "version": "3.7.8"
  },
  "vscode": {
   "interpreter": {
    "hash": "b017594118ac99b5f427c0ae90fba14825388823942a8c6fc2c353b3b1713eba"
   }
  }
 },
 "nbformat": 4,
 "nbformat_minor": 2
}
