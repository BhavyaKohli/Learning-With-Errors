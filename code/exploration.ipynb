{
 "cells": [
  {
   "cell_type": "markdown",
   "metadata": {},
   "source": [
    "# Importing requirements"
   ]
  },
  {
   "cell_type": "code",
   "execution_count": 56,
   "metadata": {},
   "outputs": [],
   "source": [
    "import numpy as np\n",
    "import matplotlib.pyplot as plt\n",
    "from tqdm.auto import tqdm\n",
    "from collections import Counter\n",
    "\n",
    "m,n,q = 640,256,113\n",
    "def generate_e(sigma,size=m):\n",
    "    return np.random.normal(0,sigma,size=size).reshape(-1,1).astype(int)\n",
    "\n",
    "generate_b = lambda sig: (A@S + generate_e(sig)) % q\n",
    "accuracy = lambda x,y: (x==y).sum()/len(y)*100\n",
    "print_minmax = lambda b: print(f\"min: {b.min()}\\nmax: {b.max()}\")\n",
    "\n",
    "def initialize_expt(m=m,n=n,q=q,sigma_factor=0.05,seed=69,verbose=1):\n",
    "\n",
    "    sigma = sigma_factor*q\n",
    "    np.random.seed(seed)\n",
    "    A = np.round(np.random.rand(m,n)).astype(int)\n",
    "    S = np.round(np.random.rand(n,1)).astype(int)\n",
    "\n",
    "    e = generate_e(sigma)\n",
    "\n",
    "    b = (A@S + e) % q\n",
    "    if verbose:\n",
    "        print(\"Initialized LWE instance.\")\n",
    "        print(\"Range of b:\")\n",
    "        print_minmax(b)\n",
    "\n",
    "    return A,S,e,b,sigma"
   ]
  },
  {
   "cell_type": "markdown",
   "metadata": {},
   "source": [
    "<a class=\"anchor\" id=\"index\"></a>\n",
    "## Jump to section:\n",
    "1. [Exploration](#exploration)\n",
    "2. [Scoring based method](#scoring)\n",
    "3. [Using $Ax_i$=$u_i$](#methodaxu)\n",
    "4. [Encryption using LWE](#encryption)"
   ]
  },
  {
   "cell_type": "markdown",
   "metadata": {},
   "source": [
    "<a class=\"anchor\" id=\"exploration\"></a>\n",
    "# Exploration"
   ]
  },
  {
   "cell_type": "code",
   "execution_count": 8,
   "metadata": {},
   "outputs": [
    {
     "data": {
      "image/png": "[encoded data removed]",
      "text/plain": [
       "<Figure size 432x288 with 1 Axes>"
      ]
     },
     "metadata": {
      "needs_background": "light"
     },
     "output_type": "display_data"
    }
   ],
   "source": [
    "k = np.random.normal(0,10,size=1000000)\n",
    "\n",
    "def plot_distribution(k):\n",
    "    k = np.round(k).reshape(-1,)\n",
    "    plt.plot(Counter(k).keys(),Counter(k).values(),\"bx\")\n",
    "    plt.grid()\n",
    "    \n",
    "plot_distribution(k)"
   ]
  },
  {
   "cell_type": "code",
   "execution_count": 9,
   "metadata": {},
   "outputs": [],
   "source": [
    "m = 640\n",
    "n = 256\n",
    "q = 113\n",
    "sigma = 1/n*q\n",
    "seed = 69\n",
    "\n",
    "np.random.seed(seed)\n",
    "A = np.round(np.random.rand(m,n)).astype(int)\n",
    "S = np.round(np.random.rand(n,1)).astype(int)\n",
    "\n",
    "generate_e = lambda sig: np.round(np.random.normal(0,sig,size=m).reshape(m,1)).astype(int)\n",
    "e = generate_e(sigma)\n",
    "\n",
    "b = (A@S % q + e % q) % q"
   ]
  },
  {
   "cell_type": "code",
   "execution_count": 10,
   "metadata": {},
   "outputs": [
    {
     "name": "stdout",
     "output_type": "stream",
     "text": [
      "min: 48\n",
      "max: 77\n"
     ]
    }
   ],
   "source": [
    "print(f\"min: {b.min()}\\nmax: {b.max()}\")"
   ]
  },
  {
   "cell_type": "code",
   "execution_count": null,
   "metadata": {},
   "outputs": [],
   "source": [
    "lstsq_sol = np.linalg.lstsq(A,b,rcond=0)[0]\n",
    "plot_distribution(lstsq_sol)"
   ]
  },
  {
   "cell_type": "code",
   "execution_count": 18,
   "metadata": {},
   "outputs": [],
   "source": [
    "thresh = 0.5\n",
    "lstsq_sol[lstsq_sol>thresh]=1\n",
    "lstsq_sol[lstsq_sol<thresh]=0"
   ]
  },
  {
   "cell_type": "code",
   "execution_count": 19,
   "metadata": {},
   "outputs": [
    {
     "data": {
      "text/plain": [
       "100.0"
      ]
     },
     "execution_count": 19,
     "metadata": {},
     "output_type": "execute_result"
    }
   ],
   "source": [
    "accuracy = lambda x,y: (x==y).sum()/len(y)*100\n",
    "accuracy(lstsq_sol,S)"
   ]
  },
  {
   "cell_type": "code",
   "execution_count": 11,
   "metadata": {},
   "outputs": [
    {
     "name": "stdout",
     "output_type": "stream",
     "text": [
      "100.0\n",
      "46.875\n"
     ]
    }
   ],
   "source": [
    "try:\n",
    "    atainv = np.linalg.inv(A.T@A)\n",
    "    pred_knownE = np.round(atainv@A.T@(b-e)).astype(int)\n",
    "    pred_unknownE = np.round(atainv@A.T@(b-generate_e(sigma))).astype(int)\n",
    "    print(accuracy(pred_knownE,S),accuracy(pred_unknownE,S),sep='\\n')\n",
    "except np.linalg.LinAlgError:\n",
    "    print(\"A.T@A is not invertible\")"
   ]
  },
  {
   "cell_type": "markdown",
   "metadata": {},
   "source": [
    "<a class=\"anchor\" id=\"scoring\"></a>\n",
    "# Testing a scoring based method "
   ]
  },
  {
   "cell_type": "code",
   "execution_count": 31,
   "metadata": {},
   "outputs": [
    {
     "name": "stdout",
     "output_type": "stream",
     "text": [
      "Initialized LWE instance.\n",
      "Range of b:\n",
      "min: 48\n",
      "max: 77\n"
     ]
    }
   ],
   "source": [
    "A,S,e,b,sigma = initialize_expt(sigma_factor=1/n)"
   ]
  },
  {
   "cell_type": "code",
   "execution_count": 31,
   "metadata": {},
   "outputs": [],
   "source": [
    "def run(num_iter=100,update_interval=10,q=q,sigma_factor=0.05,seed=50,plot=True,verbose=1):\n",
    "    A,S,e,b,sigma = initialize_expt(q=q,sigma_factor=sigma_factor,seed=seed,verbose=verbose)\n",
    "    if verbose: \n",
    "        print(\"Range of e:\")\n",
    "        print_minmax(e)\n",
    "\n",
    "    scores = np.zeros((A.shape[1],2))\n",
    "    acc = []\n",
    "\n",
    "    pbar = tqdm(range(num_iter),ncols=100) if verbose else range(num_iter)\n",
    "    for i in pbar:\n",
    "        b_ = (b - generate_e(sigma)) % q\n",
    "        sol = np.linalg.lstsq(A,b_,rcond=0)[0]\n",
    "\n",
    "        thresh = sol.mean()\n",
    "        sol[sol>thresh] = 1\n",
    "        sol[sol<thresh] = 0\n",
    "\n",
    "        for n,s in enumerate(sol):\n",
    "            scores[n][int(s)] += 1\n",
    "\n",
    "        if i % update_interval == 0:\n",
    "            temp_sol = np.argmax(scores,axis=1).reshape(-1,1)\n",
    "            acc.append([i,accuracy(temp_sol,S)])\n",
    "        \n",
    "    if plot:\n",
    "        plt.figure(figsize=(7,5))\n",
    "        plt.plot(acc);plt.plot(acc,'bo')\n",
    "        plt.title(\"Accuracy vs iterations\")\n",
    "        plt.xlabel(\"Iteration\");plt.ylabel(\"Accuracy\")\n",
    "        plt.show()\n",
    "\n",
    "    return np.array(acc)"
   ]
  },
  {
   "cell_type": "code",
   "execution_count": 32,
   "metadata": {},
   "outputs": [
    {
     "name": "stderr",
     "output_type": "stream",
     "text": [
      "100%|█████████████████████████████████████████████████████████████████| 5/5 [01:39<00:00, 19.96s/it]\n"
     ]
    }
   ],
   "source": [
    "sigmas = np.linspace(1/n,0.05,5)\n",
    "accs = [run(sigma_factor=s,plot=False,verbose=0) for s in tqdm(sigmas,ncols=100)]"
   ]
  },
  {
   "cell_type": "code",
   "execution_count": 43,
   "metadata": {},
   "outputs": [
    {
     "data": {
      "image/png": "[encoded data removed]",
      "text/plain": [
       "<Figure size 720x360 with 1 Axes>"
      ]
     },
     "metadata": {
      "needs_background": "light"
     },
     "output_type": "display_data"
    }
   ],
   "source": [
    "plt.figure(figsize=(10,5))\n",
    "for n,acc in enumerate(accs):\n",
    "    plt.plot(acc[:,0],acc[:,1],label=str(sigmas[n]*q)[:4]);plt.scatter(acc[:,0],acc[:,1])\n",
    "    plt.title(\"Accuracy vs iterations for different error distribution variances\")\n",
    "    plt.xlabel(\"Iteration\");plt.ylabel(\"Accuracy\")\n",
    "    plt.legend(title=r\"$\\sigma_{dist}$\")\n",
    "plt.show()"
   ]
  },
  {
   "cell_type": "markdown",
   "metadata": {},
   "source": [
    "* For lower errors, least squares is a reasonable approximation"
   ]
  },
  {
   "cell_type": "markdown",
   "metadata": {},
   "source": [
    "<a class=\"anchor\" id=\"methodaxu\"></a>\n",
    "# Method 2:\n",
    "Finding $x_i$'s such that $Ax_i = u_i$"
   ]
  },
  {
   "cell_type": "code",
   "execution_count": 59,
   "metadata": {},
   "outputs": [
    {
     "name": "stdout",
     "output_type": "stream",
     "text": [
      "Initialized LWE instance.\n",
      "Range of b:\n",
      "min: 34\n",
      "max: 82\n"
     ]
    }
   ],
   "source": [
    "A,S,e,b,sigma = initialize_expt()"
   ]
  },
  {
   "cell_type": "code",
   "execution_count": 279,
   "metadata": {},
   "outputs": [
    {
     "name": "stderr",
     "output_type": "stream",
     "text": [
      "100%|███████████████████████████████████████████████████████████████| 50/50 [00:23<00:00,  2.09it/s]\n"
     ]
    },
    {
     "data": {
      "image/png": "[encoded data removed]",
      "text/plain": [
       "<Figure size 432x288 with 1 Axes>"
      ]
     },
     "metadata": {
      "needs_background": "light"
     },
     "output_type": "display_data"
    }
   ],
   "source": [
    "U = np.eye(n)\n",
    "X = np.zeros((m,m)) \n",
    "norms = []\n",
    "enorms = []\n",
    "\n",
    "def stagger_and_add(mat,stagger=1):\n",
    "    mat_orig = mat.copy()\n",
    "    for i in range(1,stagger+1):\n",
    "        mat = np.vstack((mat_orig[i:],mat_orig[0:i])) + mat\n",
    "    return mat\n",
    "\n",
    "stagger_ls = [i for i in range(50)]\n",
    "\n",
    "maxnorms = np.zeros((len(stagger_ls),2))\n",
    "maxenorms = np.zeros((len(stagger_ls),2))\n",
    "for ii,st in enumerate(tqdm(stagger_ls,ncols=100)):\n",
    "    X = np.linalg.lstsq(A.T,stagger_and_add(U,st),rcond=0)[0].T\n",
    "    for i in range(len(U)):\n",
    "        norms.append(np.linalg.norm(X[i]))\n",
    "        enorms.append((e.T@X[i])[0])\n",
    "    maxnorms[ii] = (st,max(norms))\n",
    "    maxenorms[ii] = (st,max(np.abs(enorms)))\n",
    "    \n",
    "    # print(f\"Maximum norms :\\t x_{np.argmax(norms)+1} = {max(norms):.4f}\\te.T@x_{np.argmax(enorms)+1} = {max(enorms):.4f}\")\n",
    "\n",
    "plt.plot(maxnorms[:,0],maxnorms[:,1],label=\"norms\")\n",
    "plt.scatter(maxnorms[:,0],maxnorms[:,1],s=10)\n",
    "plt.plot(maxenorms[:,0],maxenorms[:,1],label=\"enorms\")\n",
    "plt.scatter(maxenorms[:,0],maxenorms[:,1],s=10)\n",
    "plt.legend();plt.show()"
   ]
  },
  {
   "cell_type": "code",
   "execution_count": 271,
   "metadata": {},
   "outputs": [
    {
     "name": "stdout",
     "output_type": "stream",
     "text": [
      "166\n"
     ]
    }
   ],
   "source": [
    "cnt = 0\n",
    "for i in range(len(X)):\n",
    "    # print(b.T@np.round(X[i],3),S[i],e.T@np.round(X[i],3),sep='\\t')\n",
    "    if np.round(abs((b.T.reshape(1,-1))@X[i])) == S[i]: cnt += 1\n",
    "\n",
    "print(cnt) "
   ]
  },
  {
   "cell_type": "code",
   "execution_count": 136,
   "metadata": {},
   "outputs": [
    {
     "data": {
      "text/plain": [
       "array([1])"
      ]
     },
     "execution_count": 136,
     "metadata": {},
     "output_type": "execute_result"
    }
   ],
   "source": [
    "S[9]"
   ]
  },
  {
   "cell_type": "code",
   "execution_count": 137,
   "metadata": {},
   "outputs": [
    {
     "data": {
      "text/plain": [
       "array([0.69620283])"
      ]
     },
     "execution_count": 137,
     "metadata": {},
     "output_type": "execute_result"
    }
   ],
   "source": [
    "b.T@X[9]"
   ]
  },
  {
   "cell_type": "code",
   "execution_count": 135,
   "metadata": {},
   "outputs": [
    {
     "data": {
      "text/plain": [
       "array([-0.30379717])"
      ]
     },
     "execution_count": 135,
     "metadata": {},
     "output_type": "execute_result"
    }
   ],
   "source": [
    "e.T@X[9]"
   ]
  },
  {
   "cell_type": "code",
   "execution_count": null,
   "metadata": {},
   "outputs": [],
   "source": [
    "def run2():\n",
    "    A,S,e,b,sigma = initialize_expt()\n",
    "    "
   ]
  },
  {
   "cell_type": "code",
   "execution_count": 32,
   "metadata": {},
   "outputs": [],
   "source": [
    "from scipy import optimize\n",
    "def f(x):\n",
    "    y = A.T@x - U[0].flatten()\n",
    "    return np.dot(y,y)\n",
    "\n",
    "cons = ({'type': 'eq', 'fun': lambda x: x.sum() - 0.01})\n",
    "res = optimize.minimize(f, [0]*m, method='SLSQP', constraints=cons)"
   ]
  },
  {
   "cell_type": "code",
   "execution_count": 44,
   "metadata": {},
   "outputs": [
    {
     "data": {
      "text/plain": [
       "True"
      ]
     },
     "execution_count": 44,
     "metadata": {},
     "output_type": "execute_result"
    }
   ],
   "source": [
    "((A.T@res['x']).round().astype(int) == U[0]).all()"
   ]
  },
  {
   "cell_type": "code",
   "execution_count": 50,
   "metadata": {},
   "outputs": [
    {
     "data": {
      "text/plain": [
       "array([1.02367671])"
      ]
     },
     "execution_count": 50,
     "metadata": {},
     "output_type": "execute_result"
    }
   ],
   "source": [
    "res['x']@e"
   ]
  },
  {
   "cell_type": "code",
   "execution_count": 195,
   "metadata": {},
   "outputs": [],
   "source": [
    "import pulp\n",
    "\n",
    "model = pulp.LpProblem(name=\"ax0\",sense=pulp.LpMinimize)\n",
    "decision_varsx = []\n",
    "decision_varsy = []\n",
    "decision_varsz = []\n",
    "\n",
    "for i in range(len(A[0])): \n",
    "    decision_varsx.append(pulp.LpVariable(\"x\" + str(i).zfill(3)))\n",
    "    # decision_varsy.append(pulp.LpVariable(\"y\" + str(i),lowBound=0))\n",
    "    # decision_varsz.append(pulp.LpVariable(\"z\" + str(i),lowBound=0))\n",
    "    \n",
    "    # model += (decision_varsx[-1] == decision_varsy[-1] - decision_varsz[-1])\n",
    "\n",
    "model += pulp.lpSum([-1] + [a*decision_varsx[i] for i,a in enumerate(A[0])])\n",
    "model += pulp.lpSum([-1] + [a*decision_varsx[i] for i,a in enumerate(A[0])]) >= 0\n",
    "for row in A[1:]:\n",
    "    model += pulp.lpSum([-1] + [a*decision_varsx[i] for i,a in enumerate(row)]) == 0\n",
    "model += pulp.lpSum([x for x in decision_varsx]) <= 0.5\n",
    "model += pulp.lpSum([-x for x in decision_varsx]) >= -0.5\n",
    "# model += pulp.lpSum([i+j for i,j in zip(decision_varsy,decision_varsz)]) <= 0.5"
   ]
  },
  {
   "cell_type": "code",
   "execution_count": 196,
   "metadata": {},
   "outputs": [
    {
     "data": {
      "text/plain": [
       "-1"
      ]
     },
     "execution_count": 196,
     "metadata": {},
     "output_type": "execute_result"
    }
   ],
   "source": [
    "model.solve()"
   ]
  },
  {
   "cell_type": "code",
   "execution_count": 197,
   "metadata": {},
   "outputs": [
    {
     "data": {
      "text/plain": [
       "'Infeasible'"
      ]
     },
     "execution_count": 197,
     "metadata": {},
     "output_type": "execute_result"
    }
   ],
   "source": [
    "pulp.LpStatus[model.status]"
   ]
  },
  {
   "cell_type": "code",
   "execution_count": 204,
   "metadata": {},
   "outputs": [
    {
     "data": {
      "text/plain": [
       "0.7989545905119998"
      ]
     },
     "execution_count": 204,
     "metadata": {},
     "output_type": "execute_result"
    }
   ],
   "source": [
    "sol = []\n",
    "for var in model.variables():\n",
    "    sol.append(var.varValue)\n",
    "\n",
    "sum([s*a for s,a in zip(sol,A[5])])"
   ]
  },
  {
   "cell_type": "code",
   "execution_count": 210,
   "metadata": {},
   "outputs": [
    {
     "data": {
      "text/plain": [
       "(640, 256)"
      ]
     },
     "execution_count": 210,
     "metadata": {},
     "output_type": "execute_result"
    }
   ],
   "source": [
    "A.shape"
   ]
  },
  {
   "cell_type": "code",
   "execution_count": 207,
   "metadata": {},
   "outputs": [
    {
     "data": {
      "text/plain": [
       "array([[0.83054297],\n",
       "       [1.        ],\n",
       "       [1.        ],\n",
       "       [1.        ],\n",
       "       [1.        ],\n",
       "       [0.79895459],\n",
       "       [1.3909979 ],\n",
       "       [0.88494991],\n",
       "       [1.        ],\n",
       "       [1.        ],\n",
       "       [1.24312107],\n",
       "       [1.18693933],\n",
       "       [0.9981316 ],\n",
       "       [1.11498914],\n",
       "       [1.02147953],\n",
       "       [0.80747891],\n",
       "       [0.88524844],\n",
       "       [0.97207379],\n",
       "       [0.95630748],\n",
       "       [0.96082844],\n",
       "       [0.86766682],\n",
       "       [1.        ],\n",
       "       [0.85274406],\n",
       "       [1.        ],\n",
       "       [1.13010411],\n",
       "       [0.9300741 ],\n",
       "       [0.92695986],\n",
       "       [1.20246131],\n",
       "       [0.98080771],\n",
       "       [1.06561773],\n",
       "       [1.00611401],\n",
       "       [1.        ],\n",
       "       [1.        ],\n",
       "       [1.        ],\n",
       "       [1.        ],\n",
       "       [1.        ],\n",
       "       [1.        ],\n",
       "       [1.05723466],\n",
       "       [1.1510482 ],\n",
       "       [1.05708226],\n",
       "       [0.99029403],\n",
       "       [1.0109731 ],\n",
       "       [0.76717321],\n",
       "       [1.        ],\n",
       "       [1.        ],\n",
       "       [1.        ],\n",
       "       [1.        ],\n",
       "       [1.        ],\n",
       "       [1.        ],\n",
       "       [1.        ],\n",
       "       [0.79222846],\n",
       "       [1.01847082],\n",
       "       [1.        ],\n",
       "       [0.98583934],\n",
       "       [1.01546406],\n",
       "       [0.79372006],\n",
       "       [1.        ],\n",
       "       [1.11645107],\n",
       "       [1.06091751],\n",
       "       [0.93494452],\n",
       "       [1.        ],\n",
       "       [0.80468695],\n",
       "       [1.        ],\n",
       "       [1.04695822],\n",
       "       [1.        ],\n",
       "       [1.        ],\n",
       "       [1.        ],\n",
       "       [1.        ],\n",
       "       [1.        ],\n",
       "       [1.01006721],\n",
       "       [1.06382172],\n",
       "       [0.85841251],\n",
       "       [1.06072581],\n",
       "       [1.        ],\n",
       "       [1.        ],\n",
       "       [1.        ],\n",
       "       [1.08554227],\n",
       "       [1.        ],\n",
       "       [0.84046718],\n",
       "       [1.12527447],\n",
       "       [1.        ],\n",
       "       [0.7493687 ],\n",
       "       [1.        ],\n",
       "       [1.        ],\n",
       "       [1.        ],\n",
       "       [1.        ],\n",
       "       [1.        ],\n",
       "       [0.68009497],\n",
       "       [1.14334015],\n",
       "       [0.89367045],\n",
       "       [1.        ],\n",
       "       [0.91609492],\n",
       "       [1.        ],\n",
       "       [1.1537005 ],\n",
       "       [1.00583614],\n",
       "       [0.90916883],\n",
       "       [1.        ],\n",
       "       [1.24647548],\n",
       "       [1.        ],\n",
       "       [1.        ],\n",
       "       [0.99132593],\n",
       "       [0.9356053 ],\n",
       "       [1.        ],\n",
       "       [0.92977504],\n",
       "       [0.95879562],\n",
       "       [1.        ],\n",
       "       [1.02369858],\n",
       "       [0.96628051],\n",
       "       [1.        ],\n",
       "       [1.01556867],\n",
       "       [1.        ],\n",
       "       [1.03799093],\n",
       "       [0.98579243],\n",
       "       [0.74997425],\n",
       "       [1.        ],\n",
       "       [1.        ],\n",
       "       [0.9481412 ],\n",
       "       [1.07823932],\n",
       "       [1.        ],\n",
       "       [1.        ],\n",
       "       [1.02773862],\n",
       "       [1.        ],\n",
       "       [0.97059036],\n",
       "       [1.04197785],\n",
       "       [1.        ],\n",
       "       [1.        ],\n",
       "       [1.01914102],\n",
       "       [0.8823261 ],\n",
       "       [0.99126512],\n",
       "       [1.26721552],\n",
       "       [1.01485162],\n",
       "       [0.95456837],\n",
       "       [1.01363343],\n",
       "       [1.        ],\n",
       "       [1.        ],\n",
       "       [1.25269285],\n",
       "       [1.        ],\n",
       "       [0.89931755],\n",
       "       [0.85240577],\n",
       "       [0.97027189],\n",
       "       [1.        ],\n",
       "       [1.        ],\n",
       "       [1.        ],\n",
       "       [0.97856377],\n",
       "       [1.01936872],\n",
       "       [1.        ],\n",
       "       [1.        ],\n",
       "       [0.90188551],\n",
       "       [0.85342421],\n",
       "       [1.13073585],\n",
       "       [0.90803126],\n",
       "       [1.        ],\n",
       "       [0.77639742],\n",
       "       [1.11446838],\n",
       "       [0.9119446 ],\n",
       "       [1.00000001],\n",
       "       [1.        ],\n",
       "       [0.98790874],\n",
       "       [1.        ],\n",
       "       [0.98988692],\n",
       "       [1.00990342],\n",
       "       [1.        ],\n",
       "       [0.96834472],\n",
       "       [1.16815793],\n",
       "       [1.        ],\n",
       "       [1.        ],\n",
       "       [1.        ],\n",
       "       [1.13582109],\n",
       "       [0.81608051],\n",
       "       [1.00401192],\n",
       "       [0.99538231],\n",
       "       [1.        ],\n",
       "       [0.84460426],\n",
       "       [1.15194709],\n",
       "       [0.84078871],\n",
       "       [1.        ],\n",
       "       [1.16055757],\n",
       "       [1.07405537],\n",
       "       [0.94265469],\n",
       "       [1.        ],\n",
       "       [1.08395512],\n",
       "       [1.        ],\n",
       "       [1.        ],\n",
       "       [1.        ],\n",
       "       [1.        ],\n",
       "       [0.80598903],\n",
       "       [1.28835697],\n",
       "       [0.96791168],\n",
       "       [1.04503316],\n",
       "       [1.10204833],\n",
       "       [0.98643336],\n",
       "       [1.29589872],\n",
       "       [1.        ],\n",
       "       [0.89285059],\n",
       "       [0.9445223 ],\n",
       "       [0.91741993],\n",
       "       [1.        ],\n",
       "       [0.91640171],\n",
       "       [1.        ],\n",
       "       [1.1242033 ],\n",
       "       [0.99592056],\n",
       "       [1.14656355],\n",
       "       [1.        ],\n",
       "       [1.        ],\n",
       "       [1.        ],\n",
       "       [1.00728661],\n",
       "       [1.02714013],\n",
       "       [0.84237371],\n",
       "       [1.0980349 ],\n",
       "       [1.        ],\n",
       "       [0.98387483],\n",
       "       [0.97041818],\n",
       "       [1.        ],\n",
       "       [0.99696225],\n",
       "       [1.0896413 ],\n",
       "       [1.        ],\n",
       "       [1.19992545],\n",
       "       [1.17544353],\n",
       "       [0.95679349],\n",
       "       [1.        ],\n",
       "       [0.81399116],\n",
       "       [0.93521371],\n",
       "       [0.79701121],\n",
       "       [1.        ],\n",
       "       [0.93558404],\n",
       "       [0.98877698],\n",
       "       [1.        ],\n",
       "       [1.        ],\n",
       "       [1.        ],\n",
       "       [1.23714148],\n",
       "       [1.        ],\n",
       "       [0.68092219],\n",
       "       [1.        ],\n",
       "       [0.86522793],\n",
       "       [0.99180855],\n",
       "       [1.07251499],\n",
       "       [1.03526936],\n",
       "       [1.        ],\n",
       "       [1.01690002],\n",
       "       [1.26332993],\n",
       "       [0.77036321],\n",
       "       [1.        ],\n",
       "       [1.25575226],\n",
       "       [1.12658689],\n",
       "       [0.8825152 ],\n",
       "       [0.89588498],\n",
       "       [1.06495758],\n",
       "       [1.        ],\n",
       "       [1.17968647],\n",
       "       [1.05617092],\n",
       "       [1.16727396],\n",
       "       [0.97152874],\n",
       "       [1.        ],\n",
       "       [1.        ],\n",
       "       [1.        ],\n",
       "       [0.83166202],\n",
       "       [1.        ],\n",
       "       [1.        ],\n",
       "       [1.        ],\n",
       "       [1.        ],\n",
       "       [1.        ],\n",
       "       [1.        ],\n",
       "       [1.0432986 ],\n",
       "       [1.        ],\n",
       "       [1.11750708],\n",
       "       [1.04092635],\n",
       "       [1.        ],\n",
       "       [1.        ],\n",
       "       [0.95842539],\n",
       "       [1.        ],\n",
       "       [1.09973973],\n",
       "       [0.95620077],\n",
       "       [1.09558149],\n",
       "       [1.32806261],\n",
       "       [0.97309215],\n",
       "       [1.00785777],\n",
       "       [1.20198594],\n",
       "       [1.        ],\n",
       "       [1.        ],\n",
       "       [1.05914743],\n",
       "       [1.        ],\n",
       "       [1.        ],\n",
       "       [0.93571342],\n",
       "       [1.        ],\n",
       "       [0.7446043 ],\n",
       "       [1.09455247],\n",
       "       [1.        ],\n",
       "       [1.        ],\n",
       "       [1.        ],\n",
       "       [1.        ],\n",
       "       [0.84449948],\n",
       "       [1.23323123],\n",
       "       [1.09442939],\n",
       "       [0.89163724],\n",
       "       [1.        ],\n",
       "       [1.        ],\n",
       "       [1.10008281],\n",
       "       [0.88674199],\n",
       "       [1.09936296],\n",
       "       [0.98825906],\n",
       "       [1.        ],\n",
       "       [1.1255082 ],\n",
       "       [1.07929716],\n",
       "       [1.        ],\n",
       "       [1.03236183],\n",
       "       [1.        ],\n",
       "       [0.98550102],\n",
       "       [1.0771009 ],\n",
       "       [1.00062914],\n",
       "       [1.        ],\n",
       "       [0.8938704 ],\n",
       "       [1.        ],\n",
       "       [1.00487134],\n",
       "       [1.31932887],\n",
       "       [1.01085886],\n",
       "       [1.20512111],\n",
       "       [0.94439108],\n",
       "       [1.        ],\n",
       "       [0.97505386],\n",
       "       [1.16521058],\n",
       "       [1.05864334],\n",
       "       [1.20806612],\n",
       "       [1.        ],\n",
       "       [1.05743754],\n",
       "       [1.        ],\n",
       "       [1.        ],\n",
       "       [1.20664095],\n",
       "       [0.86066301],\n",
       "       [1.        ],\n",
       "       [1.13557707],\n",
       "       [1.07153909],\n",
       "       [1.08966928],\n",
       "       [0.81832536],\n",
       "       [1.        ],\n",
       "       [1.        ],\n",
       "       [1.01131695],\n",
       "       [1.        ],\n",
       "       [0.91478975],\n",
       "       [0.81613423],\n",
       "       [1.        ],\n",
       "       [0.66886602],\n",
       "       [1.        ],\n",
       "       [0.97595638],\n",
       "       [1.        ],\n",
       "       [1.02798995],\n",
       "       [1.04083639],\n",
       "       [0.95954041],\n",
       "       [0.73567093],\n",
       "       [1.        ],\n",
       "       [0.91184737],\n",
       "       [0.75546019],\n",
       "       [1.        ],\n",
       "       [1.        ],\n",
       "       [1.        ],\n",
       "       [1.        ],\n",
       "       [1.        ],\n",
       "       [1.13998222],\n",
       "       [1.        ],\n",
       "       [1.        ],\n",
       "       [0.97654213],\n",
       "       [1.33002637],\n",
       "       [0.92957787],\n",
       "       [1.        ],\n",
       "       [0.9950604 ],\n",
       "       [1.        ],\n",
       "       [1.08542196],\n",
       "       [1.05560725],\n",
       "       [1.0494509 ],\n",
       "       [0.93027462],\n",
       "       [1.        ],\n",
       "       [1.        ],\n",
       "       [1.        ],\n",
       "       [1.13912302],\n",
       "       [1.11662556],\n",
       "       [0.95992871],\n",
       "       [0.82862193],\n",
       "       [1.3881884 ],\n",
       "       [1.11903285],\n",
       "       [1.13756878],\n",
       "       [1.        ],\n",
       "       [1.        ],\n",
       "       [1.02769892],\n",
       "       [0.82886993],\n",
       "       [1.        ],\n",
       "       [0.91849946],\n",
       "       [1.        ],\n",
       "       [1.        ],\n",
       "       [1.        ],\n",
       "       [0.94862205],\n",
       "       [1.        ],\n",
       "       [0.89770175],\n",
       "       [1.        ],\n",
       "       [0.77286808],\n",
       "       [0.88705258],\n",
       "       [0.81697306],\n",
       "       [1.        ],\n",
       "       [0.93331031],\n",
       "       [1.        ],\n",
       "       [1.        ],\n",
       "       [1.        ],\n",
       "       [1.        ],\n",
       "       [1.        ],\n",
       "       [0.97376918],\n",
       "       [1.19288511],\n",
       "       [1.09949235],\n",
       "       [1.        ],\n",
       "       [1.2035445 ],\n",
       "       [0.84009582],\n",
       "       [1.07938674],\n",
       "       [0.90096475],\n",
       "       [0.85937972],\n",
       "       [1.        ],\n",
       "       [0.97928359],\n",
       "       [1.        ],\n",
       "       [0.6997797 ],\n",
       "       [0.88809261],\n",
       "       [0.76019257],\n",
       "       [1.        ],\n",
       "       [1.        ],\n",
       "       [1.        ],\n",
       "       [1.        ],\n",
       "       [1.09805409],\n",
       "       [0.98829834],\n",
       "       [1.08710499],\n",
       "       [1.        ],\n",
       "       [1.        ],\n",
       "       [1.        ],\n",
       "       [0.98824218],\n",
       "       [0.94802391],\n",
       "       [0.82916611],\n",
       "       [1.        ],\n",
       "       [1.        ],\n",
       "       [1.        ],\n",
       "       [0.85961225],\n",
       "       [1.        ],\n",
       "       [1.        ],\n",
       "       [0.80203114],\n",
       "       [0.93298606],\n",
       "       [0.92257424],\n",
       "       [0.99229229],\n",
       "       [1.        ],\n",
       "       [0.9231685 ],\n",
       "       [1.        ],\n",
       "       [1.        ],\n",
       "       [1.14164722],\n",
       "       [1.05545741],\n",
       "       [1.        ],\n",
       "       [1.14647995],\n",
       "       [1.        ],\n",
       "       [1.        ],\n",
       "       [1.19713162],\n",
       "       [0.91323863],\n",
       "       [1.0103307 ],\n",
       "       [1.        ],\n",
       "       [1.23408757],\n",
       "       [0.89602053],\n",
       "       [0.90637789],\n",
       "       [0.96504881],\n",
       "       [1.        ],\n",
       "       [1.        ],\n",
       "       [0.98542365],\n",
       "       [1.        ],\n",
       "       [1.        ],\n",
       "       [1.        ],\n",
       "       [1.        ],\n",
       "       [0.84107112],\n",
       "       [1.02179251],\n",
       "       [0.71047058],\n",
       "       [1.18414309],\n",
       "       [0.98260865],\n",
       "       [0.92083845],\n",
       "       [1.        ],\n",
       "       [1.18998178],\n",
       "       [1.        ],\n",
       "       [0.87919314],\n",
       "       [1.29870555],\n",
       "       [0.9104004 ],\n",
       "       [1.167071  ],\n",
       "       [0.87288921],\n",
       "       [1.        ],\n",
       "       [1.        ],\n",
       "       [0.85471625],\n",
       "       [1.15514484],\n",
       "       [1.15335765],\n",
       "       [1.08180755],\n",
       "       [0.97848898],\n",
       "       [0.81769341],\n",
       "       [0.96499663],\n",
       "       [0.85931337],\n",
       "       [1.        ],\n",
       "       [1.        ],\n",
       "       [0.90122854],\n",
       "       [1.04449765],\n",
       "       [1.        ],\n",
       "       [1.09659665],\n",
       "       [1.11567576],\n",
       "       [1.11011516],\n",
       "       [1.18994897],\n",
       "       [0.82922603],\n",
       "       [0.95708328],\n",
       "       [1.        ],\n",
       "       [1.02236778],\n",
       "       [1.        ],\n",
       "       [0.88582274],\n",
       "       [1.        ],\n",
       "       [0.73880175],\n",
       "       [1.        ],\n",
       "       [0.93756947],\n",
       "       [1.        ],\n",
       "       [0.99682639],\n",
       "       [1.1012358 ],\n",
       "       [0.72586283],\n",
       "       [1.21225111],\n",
       "       [1.24319827],\n",
       "       [1.        ],\n",
       "       [1.        ],\n",
       "       [1.        ],\n",
       "       [0.93087696],\n",
       "       [0.87340486],\n",
       "       [1.00436905],\n",
       "       [1.1486574 ],\n",
       "       [1.        ],\n",
       "       [1.        ],\n",
       "       [1.        ],\n",
       "       [1.        ],\n",
       "       [0.86786143],\n",
       "       [1.        ],\n",
       "       [0.77143513],\n",
       "       [0.83564806],\n",
       "       [1.14132552],\n",
       "       [0.97514709],\n",
       "       [0.8652566 ],\n",
       "       [1.        ],\n",
       "       [1.28169129],\n",
       "       [1.        ],\n",
       "       [1.        ],\n",
       "       [1.        ],\n",
       "       [1.        ],\n",
       "       [0.83268638],\n",
       "       [1.01842359],\n",
       "       [1.        ],\n",
       "       [1.0753207 ],\n",
       "       [0.90384386],\n",
       "       [0.90049084],\n",
       "       [1.        ],\n",
       "       [0.97784711],\n",
       "       [1.        ],\n",
       "       [1.        ],\n",
       "       [0.96204232],\n",
       "       [1.31828966],\n",
       "       [0.85429866],\n",
       "       [0.91828845],\n",
       "       [1.11343268],\n",
       "       [1.        ],\n",
       "       [1.        ],\n",
       "       [1.        ],\n",
       "       [0.90425609],\n",
       "       [1.04779329],\n",
       "       [1.        ],\n",
       "       [1.13718079],\n",
       "       [1.        ],\n",
       "       [1.        ],\n",
       "       [0.74303558],\n",
       "       [1.07120499],\n",
       "       [0.87563539],\n",
       "       [1.        ],\n",
       "       [1.        ],\n",
       "       [1.        ],\n",
       "       [1.        ],\n",
       "       [0.85611283],\n",
       "       [1.        ],\n",
       "       [1.00619176],\n",
       "       [1.        ],\n",
       "       [0.96025745],\n",
       "       [0.91926461],\n",
       "       [1.        ],\n",
       "       [1.        ],\n",
       "       [0.85680679],\n",
       "       [1.        ],\n",
       "       [1.08979074],\n",
       "       [1.01907662],\n",
       "       [1.        ],\n",
       "       [0.9623148 ],\n",
       "       [0.76850424],\n",
       "       [0.94316294],\n",
       "       [0.97951946],\n",
       "       [1.1409949 ],\n",
       "       [1.        ],\n",
       "       [1.        ],\n",
       "       [0.86500428],\n",
       "       [1.        ],\n",
       "       [0.82680198],\n",
       "       [0.78209657],\n",
       "       [1.19755038],\n",
       "       [1.        ],\n",
       "       [0.93806667],\n",
       "       [0.86552749],\n",
       "       [0.76669876],\n",
       "       [1.05700013],\n",
       "       [1.        ],\n",
       "       [1.14185342],\n",
       "       [1.10660048],\n",
       "       [1.01631967],\n",
       "       [1.        ],\n",
       "       [1.        ],\n",
       "       [1.17969924],\n",
       "       [0.95254911],\n",
       "       [0.62932198],\n",
       "       [0.79834368],\n",
       "       [1.10703786],\n",
       "       [1.07294514],\n",
       "       [1.        ],\n",
       "       [0.99915826],\n",
       "       [1.09646717],\n",
       "       [1.        ],\n",
       "       [1.04707267],\n",
       "       [0.94511292],\n",
       "       [1.        ],\n",
       "       [1.        ],\n",
       "       [1.        ],\n",
       "       [0.98496466],\n",
       "       [0.92713837],\n",
       "       [1.09209444],\n",
       "       [1.17398844],\n",
       "       [0.92803092],\n",
       "       [0.8083057 ],\n",
       "       [0.97226644],\n",
       "       [0.854283  ],\n",
       "       [1.        ],\n",
       "       [0.98749385],\n",
       "       [1.23319218],\n",
       "       [0.83239874],\n",
       "       [1.        ],\n",
       "       [1.        ],\n",
       "       [1.        ],\n",
       "       [1.01818334],\n",
       "       [0.88910943],\n",
       "       [1.00322585],\n",
       "       [1.        ],\n",
       "       [1.        ]])"
      ]
     },
     "execution_count": 207,
     "metadata": {},
     "output_type": "execute_result"
    }
   ],
   "source": [
    "A@np.array(sol).reshape(-1,1)"
   ]
  },
  {
   "cell_type": "code",
   "execution_count": 177,
   "metadata": {},
   "outputs": [
    {
     "data": {
      "text/plain": [
       "1.0121012597561565"
      ]
     },
     "execution_count": 177,
     "metadata": {},
     "output_type": "execute_result"
    }
   ],
   "source": [
    "np.linalg.norm(sol)"
   ]
  },
  {
   "cell_type": "markdown",
   "metadata": {},
   "source": [
    "Now an attacker can take the transpose of $b$, giving $b^T$, and multiply by $x_i's$ to get the corresponding bit value of s\n",
    "\n",
    "$$\n",
    "\\begin{align*}\n",
    "b &= A \\times S + e \\\\\n",
    "b^T &= S^T \\times A^T + e^T \\\\\n",
    "b^T \\times x_i &= S^T \\times u_i + e^T \\times x_i \\\\\n",
    "b^T \\times x_i &= S^T_i + e^T \\times x_i \\\\\n",
    "\\end{align*}\n",
    "$$\n",
    "\n",
    "The attacker knows $b^T$, and hopes the norm of $x_i$ is small enough (Q. does it matter?), and then approximates the bit $S^T_i$ using the output "
   ]
  },
  {
   "cell_type": "code",
   "execution_count": 26,
   "metadata": {},
   "outputs": [
    {
     "name": "stdout",
     "output_type": "stream",
     "text": [
      "output: 1.0244\torig: [0]\n",
      "output: -0.1768\torig: [0]\n",
      "output: 0.0921\torig: [0]\n",
      "output: 1.5051\torig: [1]\n",
      "output: 0.6589\torig: [1]\n"
     ]
    }
   ],
   "source": [
    "for i,x in enumerate(X[:5]):\n",
    "    btxi = b.T@x\n",
    "\n",
    "    print(f\"output: {btxi[0]:.4f}\\torig: {S[i]}\")"
   ]
  },
  {
   "cell_type": "markdown",
   "metadata": {},
   "source": [
    "<a class=\"anchor\" id=\"encryption\"></a>\n",
    "# Encryption using LWE"
   ]
  },
  {
   "cell_type": "code",
   "execution_count": 50,
   "metadata": {},
   "outputs": [
    {
     "name": "stdout",
     "output_type": "stream",
     "text": [
      "min: 43\n",
      "max: 85\n"
     ]
    }
   ],
   "source": [
    "A,S,e,b,sigma = initialize_expt(q,seed=69)"
   ]
  },
  {
   "cell_type": "code",
   "execution_count": 335,
   "metadata": {},
   "outputs": [],
   "source": [
    "def encrypt_using_lwe(M,A,S,sigma,q,seed=None):\n",
    "    if seed is not None: np.random.seed(seed)\n",
    "\n",
    "    r = np.round(np.random.rand(A.shape[0])).reshape(1,-1)/10\n",
    "    e = generate_e(sigma)\n",
    "    c0 = r@A % q\n",
    "    c1 = r @ (A@S+e) + (M * np.round(q/2))\n",
    "    c1 = c1 % q\n",
    "\n",
    "    # print(r@A@S,r@e,abs(r@e+M*np.round(q/2)),abs(c1-c0@S%q))\n",
    "\n",
    "    return c0, c1\n",
    "\n",
    "def decryt_lwe(c0,c1,A,S,b,q):\n",
    "    Mdash = abs(c1 - c0@S % q)\n",
    "    return int((abs(Mdash) > abs(np.ceil(q/2)-Mdash)) and (abs(Mdash-q) > abs(np.ceil(q/2)-Mdash)))"
   ]
  },
  {
   "cell_type": "code",
   "execution_count": 336,
   "metadata": {},
   "outputs": [],
   "source": [
    "def encrypt_decrypt_cycle(M,A,S,b,q,iter=10000):\n",
    "    outputs = []\n",
    "    for M_ in M:\n",
    "        c0, c1 = encrypt_using_lwe(M_,A,S,sigma,q)\n",
    "        Mdash = decryt_lwe(c0,c1,A,S,b,q)\n",
    "        outputs.append(Mdash==M_)\n",
    "        if Mdash != M_:\n",
    "            print(c1-c0@S, c1-c0@S%q, (c1-c0@S)%q)\n",
    "\n",
    "    return 100*np.sum(outputs)/len(outputs)"
   ]
  },
  {
   "cell_type": "code",
   "execution_count": 446,
   "metadata": {},
   "outputs": [
    {
     "data": {
      "text/plain": [
       "100.0"
      ]
     },
     "execution_count": 446,
     "metadata": {},
     "output_type": "execute_result"
    }
   ],
   "source": [
    "encrypt_decrypt_cycle(np.round(np.random.rand(10)),A,S,b,q)"
   ]
  }
 ],
 "metadata": {
  "kernelspec": {
   "display_name": "Python 3.7.8 64-bit ('3.7.8')",
   "language": "python",
   "name": "python3"
  },
  "language_info": {
   "codemirror_mode": {
    "name": "ipython",
    "version": 3
   },
   "file_extension": ".py",
   "mimetype": "text/x-python",
   "name": "python",
   "nbconvert_exporter": "python",
   "pygments_lexer": "ipython3",
   "version": "3.7.8"
  },
  "vscode": {
   "interpreter": {
    "hash": "b017594118ac99b5f427c0ae90fba14825388823942a8c6fc2c353b3b1713eba"
   }
  }
 },
 "nbformat": 4,
 "nbformat_minor": 2
}
