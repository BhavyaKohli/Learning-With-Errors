{
 "cells": [
  {
   "cell_type": "markdown",
   "metadata": {},
   "source": [
    "# Importing requirements"
   ]
  },
  {
   "cell_type": "code",
   "execution_count": 1,
   "metadata": {},
   "outputs": [],
   "source": [
    "import numpy as np\n",
    "import matplotlib.pyplot as plt\n",
    "from tqdm.auto import tqdm\n",
    "from collections import Counter\n",
    "\n",
    "m,n,q = 640,256,113\n",
    "def generate_e(sigma,size=m):\n",
    "    return np.random.normal(0,sigma,size=size).reshape(-1,1).astype(int)\n",
    "\n",
    "generate_b = lambda sig: (A@S + generate_e(sig)) % q\n",
    "accuracy = lambda x,y: (x==y).sum()/len(y)*100\n",
    "print_minmax = lambda b: print(f\"min: {b.min()}\\nmax: {b.max()}\")\n",
    "\n",
    "def initialize_expt(m=m,n=n,q=q,sigma_factor=0.05,seed=69,verbose=1):\n",
    "\n",
    "    sigma = sigma_factor*q\n",
    "    np.random.seed(seed)\n",
    "    A = np.round(np.random.rand(m,n)).astype(int)\n",
    "    S = np.round(np.random.rand(n,1)).astype(int)\n",
    "\n",
    "    e = generate_e(sigma)\n",
    "\n",
    "    b = (A@S + e) % q\n",
    "    if verbose:\n",
    "        print(\"Initialized LWE instance.\")\n",
    "        print(\"Range of b:\")\n",
    "        print_minmax(b)\n",
    "\n",
    "    return A,S,e,b,sigma"
   ]
  },
  {
   "cell_type": "markdown",
   "metadata": {},
   "source": [
    "<a class=\"anchor\" id=\"index\"></a>\n",
    "## Jump to section:\n",
    "1. [Exploration](#exploration)\n",
    "2. [Scoring based method](#scoring)\n",
    "3. [Using $Ax_i$=$u_i$](#methodaxu)\n",
    "4. [Encryption using LWE](#encryption)"
   ]
  },
  {
   "cell_type": "markdown",
   "metadata": {},
   "source": [
    "<a class=\"anchor\" id=\"exploration\"></a>\n",
    "# Exploration"
   ]
  },
  {
   "cell_type": "code",
   "execution_count": 8,
   "metadata": {},
   "outputs": [
    {
     "data": {
      "image/png": "[encoded data removed]",
      "text/plain": [
       "<Figure size 432x288 with 1 Axes>"
      ]
     },
     "metadata": {
      "needs_background": "light"
     },
     "output_type": "display_data"
    }
   ],
   "source": [
    "k = np.random.normal(0,10,size=1000000)\n",
    "\n",
    "def plot_distribution(k):\n",
    "    k = np.round(k).reshape(-1,)\n",
    "    plt.plot(Counter(k).keys(),Counter(k).values(),\"bx\")\n",
    "    plt.grid()\n",
    "    \n",
    "plot_distribution(k)"
   ]
  },
  {
   "cell_type": "code",
   "execution_count": 9,
   "metadata": {},
   "outputs": [],
   "source": [
    "m = 640\n",
    "n = 256\n",
    "q = 113\n",
    "sigma = 1/n*q\n",
    "seed = 69\n",
    "\n",
    "np.random.seed(seed)\n",
    "A = np.round(np.random.rand(m,n)).astype(int)\n",
    "S = np.round(np.random.rand(n,1)).astype(int)\n",
    "\n",
    "generate_e = lambda sig: np.round(np.random.normal(0,sig,size=m).reshape(m,1)).astype(int)\n",
    "e = generate_e(sigma)\n",
    "\n",
    "b = (A@S % q + e % q) % q"
   ]
  },
  {
   "cell_type": "code",
   "execution_count": 10,
   "metadata": {},
   "outputs": [
    {
     "name": "stdout",
     "output_type": "stream",
     "text": [
      "min: 48\n",
      "max: 77\n"
     ]
    }
   ],
   "source": [
    "print(f\"min: {b.min()}\\nmax: {b.max()}\")"
   ]
  },
  {
   "cell_type": "code",
   "execution_count": null,
   "metadata": {},
   "outputs": [],
   "source": [
    "lstsq_sol = np.linalg.lstsq(A,b,rcond=0)[0]\n",
    "plot_distribution(lstsq_sol)"
   ]
  },
  {
   "cell_type": "code",
   "execution_count": 18,
   "metadata": {},
   "outputs": [],
   "source": [
    "thresh = 0.5\n",
    "lstsq_sol[lstsq_sol>thresh]=1\n",
    "lstsq_sol[lstsq_sol<thresh]=0"
   ]
  },
  {
   "cell_type": "code",
   "execution_count": 19,
   "metadata": {},
   "outputs": [
    {
     "data": {
      "text/plain": [
       "100.0"
      ]
     },
     "execution_count": 19,
     "metadata": {},
     "output_type": "execute_result"
    }
   ],
   "source": [
    "accuracy = lambda x,y: (x==y).sum()/len(y)*100\n",
    "accuracy(lstsq_sol,S)"
   ]
  },
  {
   "cell_type": "code",
   "execution_count": 11,
   "metadata": {},
   "outputs": [
    {
     "name": "stdout",
     "output_type": "stream",
     "text": [
      "100.0\n",
      "46.875\n"
     ]
    }
   ],
   "source": [
    "try:\n",
    "    atainv = np.linalg.inv(A.T@A)\n",
    "    pred_knownE = np.round(atainv@A.T@(b-e)).astype(int)\n",
    "    pred_unknownE = np.round(atainv@A.T@(b-generate_e(sigma))).astype(int)\n",
    "    print(accuracy(pred_knownE,S),accuracy(pred_unknownE,S),sep='\\n')\n",
    "except np.linalg.LinAlgError:\n",
    "    print(\"A.T@A is not invertible\")"
   ]
  },
  {
   "cell_type": "markdown",
   "metadata": {},
   "source": [
    "<a class=\"anchor\" id=\"scoring\"></a>\n",
    "# Testing a scoring based method "
   ]
  },
  {
   "cell_type": "code",
   "execution_count": 31,
   "metadata": {},
   "outputs": [
    {
     "name": "stdout",
     "output_type": "stream",
     "text": [
      "Initialized LWE instance.\n",
      "Range of b:\n",
      "min: 48\n",
      "max: 77\n"
     ]
    }
   ],
   "source": [
    "A,S,e,b,sigma = initialize_expt(sigma_factor=1/n)"
   ]
  },
  {
   "cell_type": "code",
   "execution_count": 31,
   "metadata": {},
   "outputs": [],
   "source": [
    "def run(num_iter=100,update_interval=10,q=q,sigma_factor=0.05,seed=50,plot=True,verbose=1):\n",
    "    A,S,e,b,sigma = initialize_expt(q=q,sigma_factor=sigma_factor,seed=seed,verbose=verbose)\n",
    "    if verbose: \n",
    "        print(\"Range of e:\")\n",
    "        print_minmax(e)\n",
    "\n",
    "    scores = np.zeros((A.shape[1],2))\n",
    "    acc = []\n",
    "\n",
    "    pbar = tqdm(range(num_iter),ncols=100) if verbose else range(num_iter)\n",
    "    for i in pbar:\n",
    "        b_ = (b - generate_e(sigma)) % q\n",
    "        sol = np.linalg.lstsq(A,b_,rcond=0)[0]\n",
    "\n",
    "        thresh = sol.mean()\n",
    "        sol[sol>thresh] = 1\n",
    "        sol[sol<thresh] = 0\n",
    "\n",
    "        for n,s in enumerate(sol):\n",
    "            scores[n][int(s)] += 1\n",
    "\n",
    "        if i % update_interval == 0:\n",
    "            temp_sol = np.argmax(scores,axis=1).reshape(-1,1)\n",
    "            acc.append([i,accuracy(temp_sol,S)])\n",
    "        \n",
    "    if plot:\n",
    "        plt.figure(figsize=(7,5))\n",
    "        plt.plot(acc);plt.plot(acc,'bo')\n",
    "        plt.title(\"Accuracy vs iterations\")\n",
    "        plt.xlabel(\"Iteration\");plt.ylabel(\"Accuracy\")\n",
    "        plt.show()\n",
    "\n",
    "    return np.array(acc)"
   ]
  },
  {
   "cell_type": "code",
   "execution_count": 32,
   "metadata": {},
   "outputs": [
    {
     "name": "stderr",
     "output_type": "stream",
     "text": [
      "100%|█████████████████████████████████████████████████████████████████| 5/5 [01:39<00:00, 19.96s/it]\n"
     ]
    }
   ],
   "source": [
    "sigmas = np.linspace(1/n,0.05,5)\n",
    "accs = [run(sigma_factor=s,plot=False,verbose=0) for s in tqdm(sigmas,ncols=100)]"
   ]
  },
  {
   "cell_type": "code",
   "execution_count": 43,
   "metadata": {},
   "outputs": [
    {
     "data": {
      "image/png": "[encoded data removed]",
      "text/plain": [
       "<Figure size 720x360 with 1 Axes>"
      ]
     },
     "metadata": {
      "needs_background": "light"
     },
     "output_type": "display_data"
    }
   ],
   "source": [
    "plt.figure(figsize=(10,5))\n",
    "for n,acc in enumerate(accs):\n",
    "    plt.plot(acc[:,0],acc[:,1],label=str(sigmas[n]*q)[:4]);plt.scatter(acc[:,0],acc[:,1])\n",
    "    plt.title(\"Accuracy vs iterations for different error distribution variances\")\n",
    "    plt.xlabel(\"Iteration\");plt.ylabel(\"Accuracy\")\n",
    "    plt.legend(title=r\"$\\sigma_{dist}$\")\n",
    "plt.show()"
   ]
  },
  {
   "cell_type": "markdown",
   "metadata": {},
   "source": [
    "* For lower errors, least squares is a reasonable approximation"
   ]
  },
  {
   "cell_type": "markdown",
   "metadata": {},
   "source": [
    "<a class=\"anchor\" id=\"methodaxu\"></a>\n",
    "# Method 2:\n",
    "## Finding $x_i$'s such that $Ax_i = u_i$"
   ]
  },
  {
   "cell_type": "markdown",
   "metadata": {},
   "source": [
    "An attacker can take the transpose of $b$, giving $b^T$, and multiply by $x_i's$ to get the corresponding bit value of s\n",
    "\n",
    "$$\n",
    "\\begin{align*}\n",
    "b &= A \\times S + e \\\\\n",
    "b^T &= S^T \\times A^T + e^T \\\\\n",
    "b^T \\times x_i &= S^T \\times u_i + e^T \\times x_i \\\\\n",
    "b^T \\times x_i &= S^T_i + e^T \\times x_i \\\\\n",
    "\\end{align*}\n",
    "$$\n",
    "\n",
    "The attacker knows $b^T$, hopes the norm of $x_i$ is small enough, and then approximates the bit $S^T_i$ using the output "
   ]
  },
  {
   "cell_type": "code",
   "execution_count": 3,
   "metadata": {},
   "outputs": [
    {
     "name": "stdout",
     "output_type": "stream",
     "text": [
      "Initialized LWE instance.\n",
      "Range of b:\n",
      "min: 34\n",
      "max: 82\n"
     ]
    }
   ],
   "source": [
    "A,S,e,b,sigma = initialize_expt()"
   ]
  },
  {
   "cell_type": "code",
   "execution_count": 214,
   "metadata": {},
   "outputs": [
    {
     "name": "stdout",
     "output_type": "stream",
     "text": [
      "Maximum norms :\t x_89 = 0.1088\te.T@x_28 = 1.6765\n"
     ]
    }
   ],
   "source": [
    "U = np.eye(n)\n",
    "norms = []\n",
    "enorms = []\n",
    "\n",
    "X = np.linalg.lstsq(A.T,U,rcond=0)[0].T\n",
    "for i in range(len(U)):\n",
    "    norms.append(np.linalg.norm(X[i]))\n",
    "    enorms.append((e.T@X[i])[0])    \n",
    "print(f\"Maximum norms :\\t x_{np.argmax(norms)+1} = {max(norms):.4f}\\te.T@x_{np.argmax(enorms)+1} = {max(enorms):.4f}\")"
   ]
  },
  {
   "cell_type": "code",
   "execution_count": 216,
   "metadata": {},
   "outputs": [],
   "source": [
    "def run_axu(sigma_factor=0.05,seed=None):\n",
    "    if seed is not None: np.random.seed(seed)\n",
    "    A,S,e,b,sigma = initialize_expt(sigma_factor=sigma_factor,seed=np.random.randint(0,1e5),verbose=0)\n",
    "    \n",
    "    U = np.eye(n)\n",
    "    X = np.linalg.lstsq(A.T,U,rcond=0)[0]\n",
    "   \n",
    "    preds = np.round((b.T@X).reshape(-1,1))\n",
    "    acc = accuracy(preds,S)\n",
    "    return acc"
   ]
  },
  {
   "cell_type": "code",
   "execution_count": 220,
   "metadata": {},
   "outputs": [
    {
     "name": "stderr",
     "output_type": "stream",
     "text": [
      "100%|█████████████████████████████████████████████████████████████| 100/100 [11:43<00:00,  7.04s/it]\n"
     ]
    }
   ],
   "source": [
    "sigmas = np.linspace(1/n,0.05,100)\n",
    "\n",
    "res = []\n",
    "for sigma in tqdm(sigmas,ncols=100):\n",
    "    iter = []\n",
    "    for i in range(20):\n",
    "        iter.append(run_axu(sigma_factor=sigma))\n",
    "    res.append([sigma,np.mean(iter)])\n",
    "\n",
    "res = np.array(res)\n",
    "np.save(\"../results/axu_varsigma.npy\",res)"
   ]
  },
  {
   "cell_type": "code",
   "execution_count": 230,
   "metadata": {},
   "outputs": [
    {
     "data": {
      "image/png": "[encoded data removed]",
      "text/plain": [
       "<Figure size 720x504 with 1 Axes>"
      ]
     },
     "metadata": {
      "needs_background": "light"
     },
     "output_type": "display_data"
    }
   ],
   "source": [
    "res = np.load(\"../results/axu_varsigma.npy\")\n",
    "plt.figure(figsize=(10,7))\n",
    "plt.plot(res[:,0]*q,res[:,1],linewidth=1);plt.scatter(res[:,0]*q,res[:,1],s=7)    \n",
    "plt.title(\"Effect of sigma on the performance\")\n",
    "plt.xlabel(\"Sigma\");plt.ylabel(\"Accuracy\")\n",
    "plt.show()"
   ]
  },
  {
   "cell_type": "markdown",
   "metadata": {},
   "source": [
    "## Experimenting with $x_i$'s such that $Ax_i = u_i+u_{i+1}$\n",
    "The equations we will get are:\n",
    "$$\n",
    "S^T_i + S^T_{i+1} = b^T \\times x_i\n",
    "$$\n",
    "Therefore, if we know S^T_0, the first bit of S, we can successively subtract and round off to get the next bits of S"
   ]
  },
  {
   "cell_type": "code",
   "execution_count": 4,
   "metadata": {},
   "outputs": [
    {
     "name": "stderr",
     "output_type": "stream",
     "text": [
      "100%|███████████████████████████████████████████████████████████████| 50/50 [00:23<00:00,  2.09it/s]\n"
     ]
    },
    {
     "data": {
      "image/png": "[encoded data removed]",
      "text/plain": [
       "<Figure size 432x288 with 1 Axes>"
      ]
     },
     "metadata": {
      "needs_background": "light"
     },
     "output_type": "display_data"
    }
   ],
   "source": [
    "U = np.eye(n)\n",
    "norms = []\n",
    "enorms = []\n",
    "\n",
    "def stagger_and_add(mat,stagger=1):\n",
    "    mat_orig = mat.copy()\n",
    "    for i in range(1,stagger+1):\n",
    "        mat = np.vstack((mat_orig[i:],mat_orig[0:i])) + mat\n",
    "    return mat\n",
    "\n",
    "stagger_ls = [i for i in range(50)]\n",
    "\n",
    "maxnorms = np.zeros((len(stagger_ls),2))\n",
    "maxenorms = np.zeros((len(stagger_ls),2))\n",
    "for ii,st in enumerate(tqdm(stagger_ls,ncols=100)):\n",
    "    X = np.linalg.lstsq(A.T,stagger_and_add(U,st),rcond=0)[0].T\n",
    "    for i in range(len(U)):\n",
    "        norms.append(np.linalg.norm(X[i]))\n",
    "        enorms.append((e.T@X[i])[0])\n",
    "    maxnorms[ii] = (st,max(norms))\n",
    "    maxenorms[ii] = (st,max(np.abs(enorms)))\n",
    "    \n",
    "    # print(f\"Maximum norms :\\t x_{np.argmax(norms)+1} = {max(norms):.4f}\\te.T@x_{np.argmax(enorms)+1} = {max(enorms):.4f}\")\n",
    "\n",
    "plt.plot(maxnorms[:,0],maxnorms[:,1],label=\"norms\")\n",
    "plt.scatter(maxnorms[:,0],maxnorms[:,1],s=10)\n",
    "plt.plot(maxenorms[:,0],maxenorms[:,1],label=\"enorms\")\n",
    "plt.scatter(maxenorms[:,0],maxenorms[:,1],s=10)\n",
    "plt.legend();plt.show()"
   ]
  },
  {
   "cell_type": "code",
   "execution_count": 207,
   "metadata": {},
   "outputs": [],
   "source": [
    "from sklearn.preprocessing import MinMaxScaler\n",
    "\n",
    "def run_axu_stagger(sigma_factor=0.05,stagger=1):\n",
    "    A,S,e,b,sigma = initialize_expt(sigma_factor=sigma_factor,seed=np.random.randint(0,1e5),verbose=0)\n",
    "    \n",
    "    U = np.eye(n)\n",
    "\n",
    "    X = np.linalg.lstsq(A.T,stagger_and_add(U,stagger),rcond=0)[0]\n",
    "   \n",
    "    sums = (b.T@X).reshape(-1,1)\n",
    "\n",
    "    sums = MinMaxScaler((0,stagger+1)).fit_transform(sums).reshape(-1,)\n",
    "\n",
    "    preds = list(S[:stagger,0])\n",
    "    for i in range(len(sums)-1):\n",
    "        diff = sums[i]-sum(preds[i:stagger])\n",
    "        dist0 = np.linalg.norm(diff-0)\n",
    "        dist1 = np.linalg.norm(diff-1)\n",
    "\n",
    "        pred = 0 if dist0 < dist1 else 1\n",
    "        preds.append(pred)\n",
    "\n",
    "    preds = np.array(preds).reshape(-1,1)\n",
    "    acc = accuracy(preds,S)\n",
    "\n",
    "    return acc"
   ]
  },
  {
   "cell_type": "code",
   "execution_count": 205,
   "metadata": {},
   "outputs": [
    {
     "name": "stdout",
     "output_type": "stream",
     "text": [
      "Average success rate: 49.890625\n"
     ]
    }
   ],
   "source": [
    "print(\"Average success rate:\",np.mean([run_axu_stagger(sigma_factor=1/n) for i in range(100)]))"
   ]
  },
  {
   "cell_type": "markdown",
   "metadata": {},
   "source": [
    "<a class=\"anchor\" id=\"encryption\"></a>\n",
    "# Encryption using LWE"
   ]
  },
  {
   "cell_type": "code",
   "execution_count": 50,
   "metadata": {},
   "outputs": [
    {
     "name": "stdout",
     "output_type": "stream",
     "text": [
      "min: 43\n",
      "max: 85\n"
     ]
    }
   ],
   "source": [
    "A,S,e,b,sigma = initialize_expt(q,seed=69)"
   ]
  },
  {
   "cell_type": "code",
   "execution_count": 335,
   "metadata": {},
   "outputs": [],
   "source": [
    "def encrypt_using_lwe(M,A,S,sigma,q,seed=None):\n",
    "    if seed is not None: np.random.seed(seed)\n",
    "\n",
    "    r = np.round(np.random.rand(A.shape[0])).reshape(1,-1)/10\n",
    "    e = generate_e(sigma)\n",
    "    c0 = r@A % q\n",
    "    c1 = r @ (A@S+e) + (M * np.round(q/2))\n",
    "    c1 = c1 % q\n",
    "\n",
    "    # print(r@A@S,r@e,abs(r@e+M*np.round(q/2)),abs(c1-c0@S%q))\n",
    "\n",
    "    return c0, c1\n",
    "\n",
    "def decryt_lwe(c0,c1,A,S,b,q):\n",
    "    Mdash = abs(c1 - c0@S % q)\n",
    "    return int((abs(Mdash) > abs(np.ceil(q/2)-Mdash)) and (abs(Mdash-q) > abs(np.ceil(q/2)-Mdash)))"
   ]
  },
  {
   "cell_type": "code",
   "execution_count": 336,
   "metadata": {},
   "outputs": [],
   "source": [
    "def encrypt_decrypt_cycle(M,A,S,b,q,iter=10000):\n",
    "    outputs = []\n",
    "    for M_ in M:\n",
    "        c0, c1 = encrypt_using_lwe(M_,A,S,sigma,q)\n",
    "        Mdash = decryt_lwe(c0,c1,A,S,b,q)\n",
    "        outputs.append(Mdash==M_)\n",
    "        if Mdash != M_:\n",
    "            print(c1-c0@S, c1-c0@S%q, (c1-c0@S)%q)\n",
    "\n",
    "    return 100*np.sum(outputs)/len(outputs)"
   ]
  },
  {
   "cell_type": "code",
   "execution_count": 446,
   "metadata": {},
   "outputs": [
    {
     "data": {
      "text/plain": [
       "100.0"
      ]
     },
     "execution_count": 446,
     "metadata": {},
     "output_type": "execute_result"
    }
   ],
   "source": [
    "encrypt_decrypt_cycle(np.round(np.random.rand(10)),A,S,b,q)"
   ]
  }
 ],
 "metadata": {
  "kernelspec": {
   "display_name": "Python 3.7.8 64-bit ('3.7.8')",
   "language": "python",
   "name": "python3"
  },
  "language_info": {
   "codemirror_mode": {
    "name": "ipython",
    "version": 3
   },
   "file_extension": ".py",
   "mimetype": "text/x-python",
   "name": "python",
   "nbconvert_exporter": "python",
   "pygments_lexer": "ipython3",
   "version": "3.7.8"
  },
  "vscode": {
   "interpreter": {
    "hash": "b017594118ac99b5f427c0ae90fba14825388823942a8c6fc2c353b3b1713eba"
   }
  }
 },
 "nbformat": 4,
 "nbformat_minor": 2
}
